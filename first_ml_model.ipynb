{
 "cells": [
  {
   "cell_type": "markdown",
   "metadata": {
    "collapsed": true,
    "pycharm": {
     "name": "#%% md\n"
    }
   },
   "source": [
    "# Selecting Data For Modeling"
   ]
  },
  {
   "cell_type": "code",
   "execution_count": 1,
   "outputs": [
    {
     "data": {
      "text/plain": "Index(['Suburb', 'Address', 'Rooms', 'Type', 'Price', 'Method', 'SellerG',\n       'Date', 'Distance', 'Postcode', 'Bedroom2', 'Bathroom', 'Car',\n       'Landsize', 'BuildingArea', 'YearBuilt', 'CouncilArea', 'Lattitude',\n       'Longtitude', 'Regionname', 'Propertycount'],\n      dtype='object')"
     },
     "metadata": {},
     "output_type": "execute_result",
     "execution_count": 1
    }
   ],
   "source": [
    "import pandas as pd\n",
    "melbourne_file_path = 'input/melbourne-housing/melb_data.csv'\n",
    "melbourne_data = pd.read_csv(melbourne_file_path)\n",
    "melbourne_data.columns\n",
    "\n"
   ],
   "metadata": {
    "collapsed": false,
    "pycharm": {
     "name": "#%%\n",
     "is_executing": false
    }
   }
  },
  {
   "cell_type": "code",
   "execution_count": 3,
   "outputs": [
    {
     "data": {
      "text/plain": "       Suburb          Address  Rooms Type      Price Method SellerG  \\\n1  Abbotsford  25 Bloomburg St      2    h  1035000.0      S  Biggin   \n2  Abbotsford     5 Charles St      3    h  1465000.0     SP  Biggin   \n4  Abbotsford      55a Park St      4    h  1600000.0     VB  Nelson   \n6  Abbotsford     124 Yarra St      3    h  1876000.0      S  Nelson   \n7  Abbotsford    98 Charles St      2    h  1636000.0      S  Nelson   \n\n        Date  Distance  Postcode  ...  Bathroom  Car  Landsize  BuildingArea  \\\n1  4/02/2016       2.5    3067.0  ...       1.0  0.0     156.0          79.0   \n2  4/03/2017       2.5    3067.0  ...       2.0  0.0     134.0         150.0   \n4  4/06/2016       2.5    3067.0  ...       1.0  2.0     120.0         142.0   \n6  7/05/2016       2.5    3067.0  ...       2.0  0.0     245.0         210.0   \n7  8/10/2016       2.5    3067.0  ...       1.0  2.0     256.0         107.0   \n\n   YearBuilt  CouncilArea Lattitude  Longtitude             Regionname  \\\n1     1900.0        Yarra  -37.8079    144.9934  Northern Metropolitan   \n2     1900.0        Yarra  -37.8093    144.9944  Northern Metropolitan   \n4     2014.0        Yarra  -37.8072    144.9941  Northern Metropolitan   \n6     1910.0        Yarra  -37.8024    144.9993  Northern Metropolitan   \n7     1890.0        Yarra  -37.8060    144.9954  Northern Metropolitan   \n\n  Propertycount  \n1        4019.0  \n2        4019.0  \n4        4019.0  \n6        4019.0  \n7        4019.0  \n\n[5 rows x 21 columns]",
      "text/html": "<div>\n<style scoped>\n    .dataframe tbody tr th:only-of-type {\n        vertical-align: middle;\n    }\n\n    .dataframe tbody tr th {\n        vertical-align: top;\n    }\n\n    .dataframe thead th {\n        text-align: right;\n    }\n</style>\n<table border=\"1\" class=\"dataframe\">\n  <thead>\n    <tr style=\"text-align: right;\">\n      <th></th>\n      <th>Suburb</th>\n      <th>Address</th>\n      <th>Rooms</th>\n      <th>Type</th>\n      <th>Price</th>\n      <th>Method</th>\n      <th>SellerG</th>\n      <th>Date</th>\n      <th>Distance</th>\n      <th>Postcode</th>\n      <th>...</th>\n      <th>Bathroom</th>\n      <th>Car</th>\n      <th>Landsize</th>\n      <th>BuildingArea</th>\n      <th>YearBuilt</th>\n      <th>CouncilArea</th>\n      <th>Lattitude</th>\n      <th>Longtitude</th>\n      <th>Regionname</th>\n      <th>Propertycount</th>\n    </tr>\n  </thead>\n  <tbody>\n    <tr>\n      <td>1</td>\n      <td>Abbotsford</td>\n      <td>25 Bloomburg St</td>\n      <td>2</td>\n      <td>h</td>\n      <td>1035000.0</td>\n      <td>S</td>\n      <td>Biggin</td>\n      <td>4/02/2016</td>\n      <td>2.5</td>\n      <td>3067.0</td>\n      <td>...</td>\n      <td>1.0</td>\n      <td>0.0</td>\n      <td>156.0</td>\n      <td>79.0</td>\n      <td>1900.0</td>\n      <td>Yarra</td>\n      <td>-37.8079</td>\n      <td>144.9934</td>\n      <td>Northern Metropolitan</td>\n      <td>4019.0</td>\n    </tr>\n    <tr>\n      <td>2</td>\n      <td>Abbotsford</td>\n      <td>5 Charles St</td>\n      <td>3</td>\n      <td>h</td>\n      <td>1465000.0</td>\n      <td>SP</td>\n      <td>Biggin</td>\n      <td>4/03/2017</td>\n      <td>2.5</td>\n      <td>3067.0</td>\n      <td>...</td>\n      <td>2.0</td>\n      <td>0.0</td>\n      <td>134.0</td>\n      <td>150.0</td>\n      <td>1900.0</td>\n      <td>Yarra</td>\n      <td>-37.8093</td>\n      <td>144.9944</td>\n      <td>Northern Metropolitan</td>\n      <td>4019.0</td>\n    </tr>\n    <tr>\n      <td>4</td>\n      <td>Abbotsford</td>\n      <td>55a Park St</td>\n      <td>4</td>\n      <td>h</td>\n      <td>1600000.0</td>\n      <td>VB</td>\n      <td>Nelson</td>\n      <td>4/06/2016</td>\n      <td>2.5</td>\n      <td>3067.0</td>\n      <td>...</td>\n      <td>1.0</td>\n      <td>2.0</td>\n      <td>120.0</td>\n      <td>142.0</td>\n      <td>2014.0</td>\n      <td>Yarra</td>\n      <td>-37.8072</td>\n      <td>144.9941</td>\n      <td>Northern Metropolitan</td>\n      <td>4019.0</td>\n    </tr>\n    <tr>\n      <td>6</td>\n      <td>Abbotsford</td>\n      <td>124 Yarra St</td>\n      <td>3</td>\n      <td>h</td>\n      <td>1876000.0</td>\n      <td>S</td>\n      <td>Nelson</td>\n      <td>7/05/2016</td>\n      <td>2.5</td>\n      <td>3067.0</td>\n      <td>...</td>\n      <td>2.0</td>\n      <td>0.0</td>\n      <td>245.0</td>\n      <td>210.0</td>\n      <td>1910.0</td>\n      <td>Yarra</td>\n      <td>-37.8024</td>\n      <td>144.9993</td>\n      <td>Northern Metropolitan</td>\n      <td>4019.0</td>\n    </tr>\n    <tr>\n      <td>7</td>\n      <td>Abbotsford</td>\n      <td>98 Charles St</td>\n      <td>2</td>\n      <td>h</td>\n      <td>1636000.0</td>\n      <td>S</td>\n      <td>Nelson</td>\n      <td>8/10/2016</td>\n      <td>2.5</td>\n      <td>3067.0</td>\n      <td>...</td>\n      <td>1.0</td>\n      <td>2.0</td>\n      <td>256.0</td>\n      <td>107.0</td>\n      <td>1890.0</td>\n      <td>Yarra</td>\n      <td>-37.8060</td>\n      <td>144.9954</td>\n      <td>Northern Metropolitan</td>\n      <td>4019.0</td>\n    </tr>\n  </tbody>\n</table>\n<p>5 rows × 21 columns</p>\n</div>"
     },
     "metadata": {},
     "output_type": "execute_result",
     "execution_count": 3
    }
   ],
   "source": [
    "# The Melbourne data has some missing values (some houses for which some variables weren't recorded.)\n",
    "# We'll learn to handle missing values in a later tutorial.  \n",
    "# Your Iowa data doesn't have missing values in the columns you use. \n",
    "# So we will take the simplest option for now, and drop houses from our data. \n",
    "# Don't worry about this much for now, though the code is:\n",
    "\n",
    "# dropna drops missing values (think of na as \"not available\")\n",
    "melbourne_data = melbourne_data.dropna(axis=0)\n",
    "melbourne_data.head()"
   ],
   "metadata": {
    "collapsed": false,
    "pycharm": {
     "name": "#%%\n",
     "is_executing": false
    }
   }
  },
  {
   "cell_type": "markdown",
   "source": [
    "#### Prediction Target\n",
    "The dot (.) notation is used to select the columns which we want to predict is called ```prediction target```."
   ],
   "metadata": {
    "collapsed": false,
    "pycharm": {
     "name": "#%% md\n"
    }
   }
  },
  {
   "cell_type": "code",
   "execution_count": 5,
   "outputs": [
    {
     "name": "stdout",
     "text": [
      "1        1035000.0\n2        1465000.0\n4        1600000.0\n6        1876000.0\n7        1636000.0\n           ...    \n12205     601000.0\n12206    1050000.0\n12207     385000.0\n12209     560000.0\n12212    2450000.0\nName: Price, Length: 6196, dtype: float64\n"
     ],
     "output_type": "stream"
    }
   ],
   "source": [
    "y = melbourne_data.Price\n",
    "\n",
    "print(y)"
   ],
   "metadata": {
    "collapsed": false,
    "pycharm": {
     "name": "#%%\n",
     "is_executing": false
    }
   }
  },
  {
   "cell_type": "markdown",
   "source": [
    "#### Choosing ```Features```\n",
    "The columns which are inputted in the model (and later used to make predictions) are called ```Features```.\n",
    "\n",
    "We can select multiple features by providing a list of column names inside brackets. Each item in that list\n",
    "should be string."
   ],
   "metadata": {
    "collapsed": false,
    "pycharm": {
     "name": "#%% md\n"
    }
   }
  },
  {
   "cell_type": "code",
   "execution_count": 7,
   "outputs": [
    {
     "name": "stdout",
     "text": [
      "   Rooms  Bathroom  Landsize  Lattitude  Longtitude\n1      2       1.0     156.0   -37.8079    144.9934\n2      3       2.0     134.0   -37.8093    144.9944\n4      4       1.0     120.0   -37.8072    144.9941\n6      3       2.0     245.0   -37.8024    144.9993\n7      2       1.0     256.0   -37.8060    144.9954\n"
     ],
     "output_type": "stream"
    }
   ],
   "source": [
    "melbourne_features = ['Rooms', 'Bathroom', 'Landsize', 'Lattitude', 'Longtitude']\n",
    "X = melbourne_data[melbourne_features]\n",
    "print(X.head())\n",
    "\n"
   ],
   "metadata": {
    "collapsed": false,
    "pycharm": {
     "name": "#%%\n",
     "is_executing": false
    }
   }
  },
  {
   "cell_type": "markdown",
   "source": [
    "## Building Model\n",
    "```Scikit-learn``` is the most popular library for modeling the types of data typically stored in ```DataFrame```.\n",
    "\n",
    "The steps for building and using a model are:\n",
    "\n",
    "- ***Define:*** What type of model will it be? A decision tree? Some other type of model? Some other \n",
    "parameters of the model are specified too.\n",
    "- ***Fit:*** Capture patterns from provided data. This is the heart of modeling.\n",
    "- ***Predict:*** Just what is sounds like.\n",
    "- ***Evaluate:*** Determine how accurate the model's prediction are."
   ],
   "metadata": {
    "collapsed": false
   }
  },
  {
   "cell_type": "code",
   "execution_count": 10,
   "outputs": [
    {
     "data": {
      "text/plain": "DecisionTreeRegressor(criterion='mse', max_depth=None, max_features=None,\n                      max_leaf_nodes=None, min_impurity_decrease=0.0,\n                      min_impurity_split=None, min_samples_leaf=1,\n                      min_samples_split=2, min_weight_fraction_leaf=0.0,\n                      presort=False, random_state=1, splitter='best')"
     },
     "metadata": {},
     "output_type": "execute_result",
     "execution_count": 10
    }
   ],
   "source": [
    "from sklearn.tree import DecisionTreeRegressor\n",
    "# Define model. Specify a number for random_state to ensure same results each run\n",
    "melbourne_model = DecisionTreeRegressor(random_state=1)\n",
    "\n",
    "# Fit model\n",
    "melbourne_model.fit(X, y)"
   ],
   "metadata": {
    "collapsed": false,
    "pycharm": {
     "name": "#%% \n",
     "is_executing": false
    }
   }
  },
  {
   "cell_type": "code",
   "execution_count": 12,
   "outputs": [
    {
     "name": "stdout",
     "text": [
      "Making predictions for the following 5 houses:\n   Rooms  Bathroom  Landsize  Lattitude  Longtitude\n1      2       1.0     156.0   -37.8079    144.9934\n2      3       2.0     134.0   -37.8093    144.9944\n4      4       1.0     120.0   -37.8072    144.9941\n6      3       2.0     245.0   -37.8024    144.9993\n7      2       1.0     256.0   -37.8060    144.9954\nThe predictions are: \n[1035000. 1465000. 1600000. 1876000. 1636000.]\n"
     ],
     "output_type": "stream"
    }
   ],
   "source": [
    "print(\"Making predictions for the following 5 houses:\")\n",
    "print(X.head())\n",
    "print(\"The predictions are: \")\n",
    "print(melbourne_model.predict(X.head()))"
   ],
   "metadata": {
    "collapsed": false,
    "pycharm": {
     "name": "#%%\n",
     "is_executing": false
    }
   }
  },
  {
   "cell_type": "code",
   "execution_count": null,
   "outputs": [],
   "source": [
    "\n"
   ],
   "metadata": {
    "collapsed": false,
    "pycharm": {
     "name": "#%%\n"
    }
   }
  }
 ],
 "metadata": {
  "kernelspec": {
   "display_name": "Python 3",
   "language": "python",
   "name": "python3"
  },
  "language_info": {
   "codemirror_mode": {
    "name": "ipython",
    "version": 2
   },
   "file_extension": ".py",
   "mimetype": "text/x-python",
   "name": "python",
   "nbconvert_exporter": "python",
   "pygments_lexer": "ipython2",
   "version": "2.7.6"
  },
  "pycharm": {
   "stem_cell": {
    "cell_type": "raw",
    "source": [],
    "metadata": {
     "collapsed": false
    }
   }
  }
 },
 "nbformat": 4,
 "nbformat_minor": 0
}